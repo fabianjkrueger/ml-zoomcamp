{
 "cells": [
  {
   "cell_type": "markdown",
   "metadata": {},
   "source": [
    "# Homework Session 2 - Regression\n",
    "\n",
    "## Preparations"
   ]
  },
  {
   "cell_type": "code",
   "execution_count": 51,
   "metadata": {},
   "outputs": [],
   "source": [
    "# dependencies\n",
    "import pandas as pd\n",
    "import numpy as np\n",
    "import os\n",
    "import seaborn as sns"
   ]
  },
  {
   "cell_type": "code",
   "execution_count": 2,
   "metadata": {},
   "outputs": [
    {
     "data": {
      "text/plain": [
       "'/Users/fakrueg/projects/ml-zoomcamp/homework'"
      ]
     },
     "execution_count": 2,
     "metadata": {},
     "output_type": "execute_result"
    }
   ],
   "source": [
    "# check working directory\n",
    "os.getcwd()"
   ]
  },
  {
   "cell_type": "code",
   "execution_count": 3,
   "metadata": {},
   "outputs": [],
   "source": [
    "# load data\n",
    "df = pd.read_csv(\"../data/laptops.csv\")"
   ]
  },
  {
   "cell_type": "code",
   "execution_count": 4,
   "metadata": {},
   "outputs": [],
   "source": [
    "# clean and process the data\n",
    "\n",
    "# change column names to lower case and replace space with underscore\n",
    "df.columns = df.columns.str.lower().str.replace(\" \", \"_\")\n",
    "\n",
    "# select columns for further use\n",
    "df = df[[\"ram\", \"storage\", \"screen\", \"final_price\"]]"
   ]
  },
  {
   "cell_type": "markdown",
   "metadata": {},
   "source": [
    "## Exploratory Data Analysis"
   ]
  },
  {
   "cell_type": "code",
   "execution_count": 5,
   "metadata": {},
   "outputs": [
    {
     "data": {
      "text/plain": [
       "<Axes: ylabel='Frequency'>"
      ]
     },
     "execution_count": 5,
     "metadata": {},
     "output_type": "execute_result"
    },
    {
     "data": {
      "image/png": "[encoded data removed]",
      "text/plain": [
       "<Figure size 640x480 with 1 Axes>"
      ]
     },
     "metadata": {},
     "output_type": "display_data"
    }
   ],
   "source": [
    "# plot the data to see if it has a long tail\n",
    "df[\"final_price\"].plot(kind=\"hist\", bins=100)"
   ]
  },
  {
   "cell_type": "markdown",
   "metadata": {},
   "source": [
    "Yes, it has a long tail.\n",
    "\n",
    "## Question 1"
   ]
  },
  {
   "cell_type": "code",
   "execution_count": 6,
   "metadata": {},
   "outputs": [
    {
     "data": {
      "text/plain": [
       "ram            False\n",
       "storage        False\n",
       "screen          True\n",
       "final_price    False\n",
       "dtype: bool"
      ]
     },
     "execution_count": 6,
     "metadata": {},
     "output_type": "execute_result"
    }
   ],
   "source": [
    "# look for missing values in the data frame\n",
    "df.isna().any()"
   ]
  },
  {
   "cell_type": "markdown",
   "metadata": {},
   "source": [
    "The column containing missing values is `screen`,"
   ]
  },
  {
   "cell_type": "markdown",
   "metadata": {},
   "source": [
    "## Questions 2\n",
    "\n",
    "What is the 50th percentile or rather the median?"
   ]
  },
  {
   "cell_type": "code",
   "execution_count": 7,
   "metadata": {},
   "outputs": [
    {
     "data": {
      "text/plain": [
       "np.float64(16.0)"
      ]
     },
     "execution_count": 7,
     "metadata": {},
     "output_type": "execute_result"
    }
   ],
   "source": [
    "df[\"ram\"].median()"
   ]
  },
  {
   "cell_type": "markdown",
   "metadata": {},
   "source": [
    "Split the data set."
   ]
  },
  {
   "cell_type": "code",
   "execution_count": 8,
   "metadata": {},
   "outputs": [],
   "source": [
    "# prepare and split the dataset\n",
    "\n",
    "# get sizes of different subsets\n",
    "n = len(df)\n",
    "n_val = int(n * 0.2)\n",
    "n_test = int(n * 0.2)\n",
    "n_train = n - n_val - n_test\n",
    "\n",
    "# shuffle data frame reproducibly to get more balanced sets\n",
    "idx = np.arange(n)\n",
    "np.random.seed(42)\n",
    "np.random.shuffle(idx)\n",
    "\n",
    "# get different split subsets\n",
    "df_train = df.iloc[idx[:n_train]]\n",
    "df_val = df.iloc[idx[n_train:n_train+n_val]]\n",
    "df_test = df.iloc[idx[n_train+n_val:]]\n",
    "\n",
    "# reset index\n",
    "df_train = df_train.reset_index(drop=True)\n",
    "df_val = df_val.reset_index(drop=True)\n",
    "df_test = df_test.reset_index(drop=True)\n",
    "\n",
    "# log transform label variable and store in its own object\n",
    "y_train = np.log1p(df_train.final_price.values)\n",
    "y_val = np.log1p(df_val.final_price.values)\n",
    "y_test = np.log1p(df_test.final_price.values)\n",
    "\n",
    "# remove label variable from feature data frames \n",
    "# now it's only left in its own previously made object y_...\n",
    "del df_train['final_price']\n",
    "del df_val['final_price']\n",
    "del df_test['final_price']"
   ]
  },
  {
   "cell_type": "code",
   "execution_count": 9,
   "metadata": {},
   "outputs": [
    {
     "data": {
      "text/plain": [
       "(      ram  storage  screen\n",
       " 0      32     1000    15.6\n",
       " 1       4       64    14.1\n",
       " 2      32     1000    14.0\n",
       " 3      16      512    13.3\n",
       " 4      32     1000    16.0\n",
       " ...   ...      ...     ...\n",
       " 1291    8      256    14.0\n",
       " 1292   32     1000    16.0\n",
       " 1293   16      512    15.6\n",
       " 1294   16      512    14.0\n",
       " 1295   16      512    14.0\n",
       " \n",
       " [1296 rows x 3 columns],\n",
       " array([7.024907  , 5.30851519, 6.90649448, ..., 6.96602419, 7.42177579,\n",
       "        6.96318999]))"
      ]
     },
     "execution_count": 9,
     "metadata": {},
     "output_type": "execute_result"
    }
   ],
   "source": [
    "df_train, y_train"
   ]
  },
  {
   "cell_type": "markdown",
   "metadata": {},
   "source": [
    "## Question 3\n",
    "\n",
    "### Missing Value Imputation\n",
    "\n",
    "Impute missing values in the `screen` column."
   ]
  },
  {
   "cell_type": "code",
   "execution_count": 10,
   "metadata": {},
   "outputs": [
    {
     "name": "stdout",
     "output_type": "stream",
     "text": [
      "ram        False\n",
      "storage    False\n",
      "screen      True\n",
      "dtype: bool \n",
      "\n",
      "ram        False\n",
      "storage    False\n",
      "screen      True\n",
      "dtype: bool \n",
      "\n",
      "ram        False\n",
      "storage    False\n",
      "screen     False\n",
      "dtype: bool \n",
      "\n"
     ]
    }
   ],
   "source": [
    "# check which one of the data sets even contains any missing values that need to be imputed\n",
    "\n",
    "# store the three data sets in a list\n",
    "split_features = [df_train, df_val, df_test]\n",
    "\n",
    "# interate through them and see which one has missing values.\n",
    "for dataframe in split_features:\n",
    "    print(dataframe.isna().any(), \"\\n\")"
   ]
  },
  {
   "cell_type": "code",
   "execution_count": 39,
   "metadata": {},
   "outputs": [],
   "source": [
    "# define a function for imputing the data frames\n",
    "# this function is very much tailored for this specific setup\n",
    "# it won't be meaningful, for example, if order of data sets is changed\n",
    "# but for this use case, it is sufficient :)\n",
    "\n",
    "def impute_missing_values(datasets, fill_method):\n",
    "    \n",
    "    # iterate through all data passed frames\n",
    "    for i in range(len(split_features)):\n",
    "        \n",
    "        # fill data with zeros if selected\n",
    "        if fill_method == \"zero\":\n",
    "            datasets[i] = datasets[i].fillna(0)\n",
    "            \n",
    "        # fill data with mean if selected\n",
    "        if fill_method == \"mean\":\n",
    "            \n",
    "            # determine mean of train set to impute with -> always impute with this one\n",
    "            # train is the first data set passed here\n",
    "            mean_train = datasets[0][\"screen\"].mean()\n",
    "            \n",
    "            # use mean for imputation\n",
    "            datasets[i] = datasets[i].fillna(mean_train)\n",
    "    \n",
    "    return datasets[0], datasets[1], datasets[2]\n",
    "\n",
    "\n",
    "# call function and assign to new objects\n",
    "# impute using zero\n",
    "df_train_zero, df_val_zero, df_test_zero = impute_missing_values(datasets=split_features,\n",
    "                                                                 fill_method=\"zero\")\n",
    "\n",
    "# impute using the mean\n",
    "df_train_mean, df_val_mean, df_test_mean = impute_missing_values(datasets=split_features,\n",
    "                                                                 fill_method=\"mean\")"
   ]
  },
  {
   "cell_type": "code",
   "execution_count": 40,
   "metadata": {},
   "outputs": [
    {
     "name": "stdout",
     "output_type": "stream",
     "text": [
      "ram        False\n",
      "storage    False\n",
      "screen     False\n",
      "dtype: bool \n",
      "\n",
      "ram        False\n",
      "storage    False\n",
      "screen     False\n",
      "dtype: bool \n",
      "\n",
      "ram        False\n",
      "storage    False\n",
      "screen     False\n",
      "dtype: bool \n",
      "\n"
     ]
    }
   ],
   "source": [
    "# test if imputation worked\n",
    "# for imputation with zero\n",
    "for dataframe in [df_train_zero, df_val_zero, df_test_zero]:\n",
    "    print(dataframe.isna().any(), \"\\n\")"
   ]
  },
  {
   "cell_type": "code",
   "execution_count": 42,
   "metadata": {},
   "outputs": [
    {
     "name": "stdout",
     "output_type": "stream",
     "text": [
      "ram        False\n",
      "storage    False\n",
      "screen     False\n",
      "dtype: bool \n",
      "\n",
      "ram        False\n",
      "storage    False\n",
      "screen     False\n",
      "dtype: bool \n",
      "\n",
      "ram        False\n",
      "storage    False\n",
      "screen     False\n",
      "dtype: bool \n",
      "\n"
     ]
    }
   ],
   "source": [
    "# test if imputation worked\n",
    "# for imputation with zero\n",
    "for dataframe in [df_train_mean, df_val_mean, df_test_mean]:\n",
    "    print(dataframe.isna().any(), \"\\n\")"
   ]
  },
  {
   "cell_type": "markdown",
   "metadata": {},
   "source": [
    "No more missing values left.\n",
    "\n",
    "### Training the Model"
   ]
  },
  {
   "cell_type": "code",
   "execution_count": 44,
   "metadata": {},
   "outputs": [],
   "source": [
    "# code from the lessons for training a linear regression model\n",
    "def train_linear_regression(X, y):\n",
    "    ones = np.ones(X.shape[0])\n",
    "    X = np.column_stack([ones, X])\n",
    "\n",
    "    XTX = X.T.dot(X)\n",
    "    XTX_inv = np.linalg.inv(XTX)\n",
    "    w_full = XTX_inv.dot(X.T).dot(y)\n",
    "    \n",
    "    return w_full[0], w_full[1:]"
   ]
  },
  {
   "cell_type": "code",
   "execution_count": 46,
   "metadata": {},
   "outputs": [],
   "source": [
    "# train the model using the data imputed with zeros\n",
    "w0_zero, w_zero = train_linear_regression(\n",
    "    X=df_train_zero,\n",
    "    y=y_train\n",
    ")\n",
    "\n",
    "# train the model using the data imputed with mean\n",
    "w0_mean, w_mean = train_linear_regression(\n",
    "    X=df_train_mean,\n",
    "    y=y_train\n",
    ")"
   ]
  },
  {
   "cell_type": "markdown",
   "metadata": {},
   "source": [
    "### Getting the Predictions"
   ]
  },
  {
   "cell_type": "code",
   "execution_count": 50,
   "metadata": {},
   "outputs": [],
   "source": [
    "# get the predictions for model trained on data imputed with zeros\n",
    "y_pred_zero = w0_zero + df_train_zero.dot(w_zero)\n",
    "\n",
    "# get the predictions for model trained on data imputed with mean\n",
    "y_pred_mean = w0_mean + df_train_mean.dot(w_mean)"
   ]
  },
  {
   "cell_type": "code",
   "execution_count": 52,
   "metadata": {},
   "outputs": [
    {
     "data": {
      "text/plain": [
       "<Axes: ylabel='Count'>"
      ]
     },
     "execution_count": 52,
     "metadata": {},
     "output_type": "execute_result"
    },
    {
     "data": {
      "image/png": "[encoded data removed]",
      "text/plain": [
       "<Figure size 640x480 with 1 Axes>"
      ]
     },
     "metadata": {},
     "output_type": "display_data"
    }
   ],
   "source": [
    "# compare predicted values to labels from training for zero imputed \n",
    "sns.histplot(y_pred_zero, color='red', alpha=0.5, bins=50)\n",
    "sns.histplot(y_train, color='blue', alpha=0.5, bins=50)"
   ]
  },
  {
   "cell_type": "code",
   "execution_count": 53,
   "metadata": {},
   "outputs": [
    {
     "data": {
      "text/plain": [
       "<Axes: ylabel='Count'>"
      ]
     },
     "execution_count": 53,
     "metadata": {},
     "output_type": "execute_result"
    },
    {
     "data": {
      "image/png": "[encoded data removed]",
      "text/plain": [
       "<Figure size 640x480 with 1 Axes>"
      ]
     },
     "metadata": {},
     "output_type": "display_data"
    }
   ],
   "source": [
    "# compare predicted values to labels from training for mean imputed \n",
    "sns.histplot(y_pred_mean, color='red', alpha=0.5, bins=50)\n",
    "sns.histplot(y_train, color='blue', alpha=0.5, bins=50)"
   ]
  },
  {
   "cell_type": "code",
   "execution_count": 58,
   "metadata": {},
   "outputs": [],
   "source": [
    "# define function for RSME (taken from lesson's notebook)\n",
    "def rmse(y, y_pred):\n",
    "    se = (y - y_pred) ** 2\n",
    "    mse = se.mean()\n",
    "    return np.sqrt(mse)"
   ]
  },
  {
   "cell_type": "code",
   "execution_count": 62,
   "metadata": {},
   "outputs": [
    {
     "data": {
      "text/plain": [
       "np.float64(0.45)"
      ]
     },
     "execution_count": 62,
     "metadata": {},
     "output_type": "execute_result"
    }
   ],
   "source": [
    "# calculate RSME for predicted values from model trained on zero imputed\n",
    "score = rmse(y_train, y_pred_zero)\n",
    "round(score, 2)"
   ]
  },
  {
   "cell_type": "code",
   "execution_count": 63,
   "metadata": {},
   "outputs": [
    {
     "data": {
      "text/plain": [
       "np.float64(0.45)"
      ]
     },
     "execution_count": 63,
     "metadata": {},
     "output_type": "execute_result"
    }
   ],
   "source": [
    "# calculate RSME for predicted values from model trained on mean imputed\n",
    "score = rmse(y_train, y_pred_mean)\n",
    "round(score, 2)"
   ]
  },
  {
   "cell_type": "markdown",
   "metadata": {},
   "source": [
    "## Question 4"
   ]
  },
  {
   "cell_type": "code",
   "execution_count": 68,
   "metadata": {},
   "outputs": [],
   "source": [
    "# make list for regularization parameter r\n",
    "reg_parameter = [0, 0.01, 0.1, 1, 5, 10, 100]"
   ]
  },
  {
   "cell_type": "code",
   "execution_count": 69,
   "metadata": {},
   "outputs": [],
   "source": [
    "# define function for training a regularized linear regression model\n",
    "# (code taken from lesson's notebook)\n",
    "def train_linear_regression_reg(X, y, r=0.001):\n",
    "    ones = np.ones(X.shape[0])\n",
    "    X = np.column_stack([ones, X])\n",
    "\n",
    "    XTX = X.T.dot(X)\n",
    "    XTX = XTX + r * np.eye(XTX.shape[0])\n",
    "\n",
    "    XTX_inv = np.linalg.inv(XTX)\n",
    "    w_full = XTX_inv.dot(X.T).dot(y)\n",
    "    \n",
    "    return w_full[0], w_full[1:]"
   ]
  },
  {
   "cell_type": "code",
   "execution_count": 95,
   "metadata": {},
   "outputs": [
    {
     "name": "stdout",
     "output_type": "stream",
     "text": [
      "[np.float64(0.43), np.float64(0.43), np.float64(0.43), np.float64(0.43), np.float64(0.46), np.float64(0.51), np.float64(0.67)]\n",
      "0.43\n"
     ]
    }
   ],
   "source": [
    "# make list for saving RMSE to\n",
    "RMSE_list = []\n",
    "\n",
    "# interate through all values for r and train and evaluate a regularized model each\n",
    "for r in reg_parameter:\n",
    "    # train regularized model\n",
    "    w0, w = train_linear_regression_reg(X=df_train_zero,\n",
    "                                        y=y_train,\n",
    "                                        r=r)\n",
    "    \n",
    "    # get predictions using the weights\n",
    "    y_pred = w0 + df_val_zero.dot(w)\n",
    "    \n",
    "    # calculate RMSE\n",
    "    RMSE = round(rmse(y_val, y_pred), 2)\n",
    "    \n",
    "    # add RMSE to list\n",
    "    RMSE_list.append(RMSE)\n",
    "\n",
    "# have a look at RMSE\n",
    "print(RMSE_list)\n",
    "\n",
    "# find minimum RSME\n",
    "print(min(RMSE_list))    "
   ]
  },
  {
   "cell_type": "markdown",
   "metadata": {},
   "source": [
    "Four values for r have the same RMSE: 0.43\n",
    "\n",
    "If multiple ones have the same value, we are supposed to pick the smallest r.\n",
    "\n",
    "So, the answer to this question is `r = 0`\n",
    "\n",
    "## Question 5"
   ]
  },
  {
   "cell_type": "code",
   "execution_count": 117,
   "metadata": {},
   "outputs": [],
   "source": [
    "def full_pipeline_different_seeds(random_seed):\n",
    "    \n",
    "    # prepare and split the dataset\n",
    "    # get sizes of different subsets\n",
    "    n = len(df)\n",
    "    n_val = int(n * 0.2)\n",
    "    n_test = int(n * 0.2)\n",
    "    n_train = n - n_val - n_test\n",
    "\n",
    "    # shuffle data frame reproducibly to get more balanced sets\n",
    "    idx = np.arange(n)\n",
    "    np.random.seed(random_seed)\n",
    "    np.random.shuffle(idx)\n",
    "\n",
    "    # get different split subsets\n",
    "    df_train = df.iloc[idx[:n_train]]\n",
    "    df_val = df.iloc[idx[n_train:n_train+n_val]]\n",
    "    df_test = df.iloc[idx[n_train+n_val:]]\n",
    "\n",
    "    # reset index\n",
    "    df_train = df_train.reset_index(drop=True)\n",
    "    df_val = df_val.reset_index(drop=True)\n",
    "    df_test = df_test.reset_index(drop=True)\n",
    "\n",
    "    # log transform label variable and store in its own object\n",
    "    y_train = np.log1p(df_train.final_price.values)\n",
    "    y_val = np.log1p(df_val.final_price.values)\n",
    "    y_test = np.log1p(df_test.final_price.values)\n",
    "\n",
    "    # remove label variable from feature data frames \n",
    "    # now it's only left in its own previously made object y_...\n",
    "    del df_train['final_price']\n",
    "    del df_val['final_price']\n",
    "    del df_test['final_price']\n",
    "\n",
    "    # call function and assign to new objects\n",
    "    # impute using zero\n",
    "    df_train_zero, df_val_zero, df_test_zero = impute_missing_values(datasets=split_features,\n",
    "                                                                    fill_method=\"zero\")\n",
    "\n",
    "    # train the model using the data imputed with zeros\n",
    "    w0_zero, w_zero = train_linear_regression(\n",
    "        X=df_train_zero,\n",
    "        y=y_train\n",
    "    )\n",
    "\n",
    "    # get the predictions for model trained on data imputed with zeros\n",
    "    y_pred_zero = w0_zero + df_val_zero.dot(w_zero)\n",
    "    \n",
    "    # reverse log transformation of labels\n",
    "    y_val_rev = np.expm1(y_val)\n",
    "    y_pred_rev = np.expm1(y_pred_zero)\n",
    "\n",
    "    # get RMSE\n",
    "    RMSE_score = rmse(y_val_rev, y_pred_rev)\n",
    "    \n",
    "    return RMSE_score"
   ]
  },
  {
   "cell_type": "code",
   "execution_count": 118,
   "metadata": {},
   "outputs": [
    {
     "data": {
      "text/plain": [
       "[np.float64(910.3274631696227),\n",
       " np.float64(950.0820283123493),\n",
       " np.float64(944.3781755681259),\n",
       " np.float64(928.8413609349392),\n",
       " np.float64(924.7954311238566),\n",
       " np.float64(868.2441459302062),\n",
       " np.float64(997.1147523105459),\n",
       " np.float64(924.1907246876143),\n",
       " np.float64(972.1813956792888),\n",
       " np.float64(967.3303370987575)]"
      ]
     },
     "execution_count": 118,
     "metadata": {},
     "output_type": "execute_result"
    }
   ],
   "source": [
    "# make list of seeds from exercise\n",
    "seeds = [0, 1, 2, 3, 4, 5, 6, 7, 8, 9]\n",
    "\n",
    "# make list to contain RMSE\n",
    "RMSE_question5 = []\n",
    "\n",
    "# call the function for the different seeds from the exercise\n",
    "for seed in seeds:\n",
    "    RMSE_question5.append(full_pipeline_different_seeds(random_seed=seed))\n",
    "    \n",
    "# have a look at the result\n",
    "RMSE_question5"
   ]
  },
  {
   "cell_type": "code",
   "execution_count": 119,
   "metadata": {},
   "outputs": [
    {
     "data": {
      "text/plain": [
       "np.float64(34.329)"
      ]
     },
     "execution_count": 119,
     "metadata": {},
     "output_type": "execute_result"
    }
   ],
   "source": [
    "# calculate standard deviation of RMSE values\n",
    "round(np.std(RMSE_question5), 3)"
   ]
  },
  {
   "cell_type": "markdown",
   "metadata": {},
   "source": [
    "## Question 6"
   ]
  },
  {
   "cell_type": "code",
   "execution_count": 130,
   "metadata": {},
   "outputs": [
    {
     "data": {
      "text/plain": [
       "np.float64(608.61)"
      ]
     },
     "execution_count": 130,
     "metadata": {},
     "output_type": "execute_result"
    }
   ],
   "source": [
    "def full_pipeline_regularized(random_seed=9):\n",
    "    \n",
    "    # prepare and split the dataset\n",
    "    # get sizes of different subsets\n",
    "    n = len(df)\n",
    "    n_val = int(n * 0.2)\n",
    "    n_test = int(n * 0.2)\n",
    "    n_train = n - n_val - n_test\n",
    "\n",
    "    # shuffle data frame reproducibly to get more balanced sets\n",
    "    idx = np.arange(n)\n",
    "    np.random.seed(random_seed)\n",
    "    np.random.shuffle(idx)\n",
    "\n",
    "    # get different split subsets\n",
    "    df_train = df.iloc[idx[:n_train]]\n",
    "    df_val = df.iloc[idx[n_train:n_train+n_val]]\n",
    "    df_test = df.iloc[idx[n_train+n_val:]]\n",
    "\n",
    "    # reset index\n",
    "    df_train = df_train.reset_index(drop=True)\n",
    "    df_val = df_val.reset_index(drop=True)\n",
    "    df_test = df_test.reset_index(drop=True)\n",
    "\n",
    "    # combine train and val sets\n",
    "    df_train_combined = pd.concat([df_train, df_val], axis=0)\n",
    "    \n",
    "    # get labels in a new object\n",
    "    y_train_combined = df_train_combined.final_price.values\n",
    "    y_test = df_test.final_price.values    \n",
    "    \n",
    "    # remove label variable from feature data frames \n",
    "    # now it's only left in its own previously made object y_...\n",
    "    del df_train_combined['final_price']\n",
    "    del df_test['final_price']\n",
    "\n",
    "    # call function and assign to new objects\n",
    "    # impute using zero\n",
    "    df_train_combined, df_test, dummy = impute_missing_values(datasets=[df_train_combined, df_test, df_val],\n",
    "                                                       fill_method=\"zero\")\n",
    "\n",
    "    # train the model using the data imputed with zeros\n",
    "    w0_zero, w_zero = train_linear_regression_reg(\n",
    "        X=df_train_combined,\n",
    "        y=y_train_combined,\n",
    "        r=0.001\n",
    "    )\n",
    "\n",
    "    # get the predictions for model trained on data imputed with zeros\n",
    "    y_pred = w0_zero + df_test.dot(w_zero)\n",
    "    \n",
    "    # reverse log transformation of labels\n",
    "    #y_val_rev = np.expm1(y_val)\n",
    "    #y_pred_rev = np.expm1(y_pred_zero)\n",
    "\n",
    "    # get RMSE\n",
    "    RMSE_score = rmse(y_test, y_pred)\n",
    "    \n",
    "    return RMSE_score\n",
    "\n",
    "# call function and round value\n",
    "round(full_pipeline_regularized(), 2)"
   ]
  }
 ],
 "metadata": {
  "kernelspec": {
   "display_name": "ml-zoomcamp",
   "language": "python",
   "name": "python3"
  },
  "language_info": {
   "codemirror_mode": {
    "name": "ipython",
    "version": 3
   },
   "file_extension": ".py",
   "mimetype": "text/x-python",
   "name": "python",
   "nbconvert_exporter": "python",
   "pygments_lexer": "ipython3",
   "version": "3.11.10"
  }
 },
 "nbformat": 4,
 "nbformat_minor": 2
}
